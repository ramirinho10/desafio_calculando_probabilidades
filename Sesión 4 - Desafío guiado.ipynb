{
 "cells": [
  {
   "cell_type": "markdown",
   "id": "bfe8979d",
   "metadata": {},
   "source": [
    "<h1 style=\"text-align: center;\">Desafío - Calculando probabilidades</h1>\n",
    "\n",
    "- Para realizar este desafío debes haber estudiado previamente todo el material disponible correspondiente a la unidad.\n",
    "- Una vez terminado el desafío, comprime la carpeta que contiene el desarrollo de los requerimientos solicitados y sube el .zip en el LMS.\n",
    "- Desarrollo del desafío: individual\n",
    "- Para la realización del desafío necesitarás apoyarte del archivo `Apoyo Desafío - Calculando probabilidades.zip`, disponible en la <a href=\"https://empieza.desafiolatam.com/cohorts/2091/sections/78268/activities/119096/items/610788\">plataforma</a>.\n",
    "- Puntaje total: 10 puntos."
   ]
  },
  {
   "cell_type": "markdown",
   "id": "6857946c",
   "metadata": {},
   "source": [
    "## Habilidades a evaluar\n",
    "- Utilizar conceptos básicos de probabilidad."
   ]
  },
  {
   "cell_type": "markdown",
   "id": "18a204ee",
   "metadata": {},
   "source": [
    "## Descripción\n",
    "Un amigo, al cual le gusta mucho el fútbol, tiene en mente poder crear una app de apuestas para el próximo mundial. Para ello, solicita tu ayuda como analista de datos de manera de poder trabajar con las probabilidades de victoria o derrota de los equipos, y que así él diseñe el resto de la app. Tú aceptas y ordenas el trabajo que debes realizar a partir de los siguientes requerimientos."
   ]
  },
  {
   "cell_type": "markdown",
   "id": "913877b2",
   "metadata": {},
   "source": [
    "## Requerimientos\n",
    "\n",
    "### 1. Lectura de archivos (1 punto)\n",
    "- Importa pandas y numpy siguiendo las convenciones.\n",
    "- Lee el set de datos `worldcup2014.csv` y asígnela a una variable `df`.\n",
    "- Solicita las primeras 5 observaciones con `head`."
   ]
  },
  {
   "cell_type": "code",
   "execution_count": 1,
   "id": "8778e7b5",
   "metadata": {},
   "outputs": [],
   "source": [
    "# Utiliza esta celda para importar pandas y numpy\n",
    "import pandas as pd\n",
    "import numpy as np"
   ]
  },
  {
   "cell_type": "code",
   "execution_count": 2,
   "id": "8b237d17",
   "metadata": {},
   "outputs": [],
   "source": [
    "# Utiliza esta celda para leer los datos y almacenarlos en la variable df\n",
    "df = pd.read_csv(\"worldcup2014.csv\")"
   ]
  },
  {
   "cell_type": "code",
   "execution_count": 3,
   "id": "04ada4dc",
   "metadata": {},
   "outputs": [
    {
     "data": {
      "text/html": [
       "<div>\n",
       "<style scoped>\n",
       "    .dataframe tbody tr th:only-of-type {\n",
       "        vertical-align: middle;\n",
       "    }\n",
       "\n",
       "    .dataframe tbody tr th {\n",
       "        vertical-align: top;\n",
       "    }\n",
       "\n",
       "    .dataframe thead th {\n",
       "        text-align: right;\n",
       "    }\n",
       "</style>\n",
       "<table border=\"1\" class=\"dataframe\">\n",
       "  <thead>\n",
       "    <tr style=\"text-align: right;\">\n",
       "      <th></th>\n",
       "      <th>team</th>\n",
       "      <th>continent</th>\n",
       "      <th>group</th>\n",
       "      <th>group_pos</th>\n",
       "      <th>cantidad_juegos</th>\n",
       "      <th>juegos_ganados</th>\n",
       "      <th>juegos_empatados</th>\n",
       "      <th>juegos_perdidos</th>\n",
       "      <th>goles_favor</th>\n",
       "      <th>goles_contra</th>\n",
       "      <th>goles_diferencia</th>\n",
       "      <th>puntos</th>\n",
       "      <th>clasificado</th>\n",
       "    </tr>\n",
       "  </thead>\n",
       "  <tbody>\n",
       "    <tr>\n",
       "      <th>0</th>\n",
       "      <td>Brazil</td>\n",
       "      <td>southamerica</td>\n",
       "      <td>A</td>\n",
       "      <td>1</td>\n",
       "      <td>3</td>\n",
       "      <td>2</td>\n",
       "      <td>1</td>\n",
       "      <td>0</td>\n",
       "      <td>7</td>\n",
       "      <td>2</td>\n",
       "      <td>5</td>\n",
       "      <td>7</td>\n",
       "      <td>1</td>\n",
       "    </tr>\n",
       "    <tr>\n",
       "      <th>1</th>\n",
       "      <td>Mexico</td>\n",
       "      <td>northamerica</td>\n",
       "      <td>A</td>\n",
       "      <td>2</td>\n",
       "      <td>3</td>\n",
       "      <td>2</td>\n",
       "      <td>1</td>\n",
       "      <td>0</td>\n",
       "      <td>4</td>\n",
       "      <td>1</td>\n",
       "      <td>3</td>\n",
       "      <td>7</td>\n",
       "      <td>1</td>\n",
       "    </tr>\n",
       "    <tr>\n",
       "      <th>2</th>\n",
       "      <td>Croatia</td>\n",
       "      <td>europe</td>\n",
       "      <td>A</td>\n",
       "      <td>3</td>\n",
       "      <td>3</td>\n",
       "      <td>1</td>\n",
       "      <td>0</td>\n",
       "      <td>2</td>\n",
       "      <td>6</td>\n",
       "      <td>6</td>\n",
       "      <td>0</td>\n",
       "      <td>3</td>\n",
       "      <td>0</td>\n",
       "    </tr>\n",
       "    <tr>\n",
       "      <th>3</th>\n",
       "      <td>Cameroon</td>\n",
       "      <td>africa</td>\n",
       "      <td>A</td>\n",
       "      <td>4</td>\n",
       "      <td>3</td>\n",
       "      <td>0</td>\n",
       "      <td>0</td>\n",
       "      <td>3</td>\n",
       "      <td>1</td>\n",
       "      <td>9</td>\n",
       "      <td>−8</td>\n",
       "      <td>0</td>\n",
       "      <td>0</td>\n",
       "    </tr>\n",
       "    <tr>\n",
       "      <th>4</th>\n",
       "      <td>Netherlands</td>\n",
       "      <td>europe</td>\n",
       "      <td>B</td>\n",
       "      <td>1</td>\n",
       "      <td>3</td>\n",
       "      <td>3</td>\n",
       "      <td>0</td>\n",
       "      <td>0</td>\n",
       "      <td>10</td>\n",
       "      <td>3</td>\n",
       "      <td>7</td>\n",
       "      <td>9</td>\n",
       "      <td>1</td>\n",
       "    </tr>\n",
       "    <tr>\n",
       "      <th>5</th>\n",
       "      <td>Chile</td>\n",
       "      <td>southamerica</td>\n",
       "      <td>B</td>\n",
       "      <td>2</td>\n",
       "      <td>3</td>\n",
       "      <td>2</td>\n",
       "      <td>0</td>\n",
       "      <td>1</td>\n",
       "      <td>5</td>\n",
       "      <td>3</td>\n",
       "      <td>2</td>\n",
       "      <td>6</td>\n",
       "      <td>1</td>\n",
       "    </tr>\n",
       "  </tbody>\n",
       "</table>\n",
       "</div>"
      ],
      "text/plain": [
       "          team     continent group  group_pos  cantidad_juegos  \\\n",
       "0       Brazil  southamerica     A          1                3   \n",
       "1       Mexico  northamerica     A          2                3   \n",
       "2      Croatia        europe     A          3                3   \n",
       "3     Cameroon        africa     A          4                3   \n",
       "4  Netherlands        europe     B          1                3   \n",
       "5        Chile  southamerica     B          2                3   \n",
       "\n",
       "   juegos_ganados  juegos_empatados  juegos_perdidos  goles_favor  \\\n",
       "0               2                 1                0            7   \n",
       "1               2                 1                0            4   \n",
       "2               1                 0                2            6   \n",
       "3               0                 0                3            1   \n",
       "4               3                 0                0           10   \n",
       "5               2                 0                1            5   \n",
       "\n",
       "   goles_contra goles_diferencia  puntos  clasificado  \n",
       "0             2                5       7            1  \n",
       "1             1                3       7            1  \n",
       "2             6                0       3            0  \n",
       "3             9               −8       0            0  \n",
       "4             3                7       9            1  \n",
       "5             3                2       6            1  "
      ]
     },
     "execution_count": 3,
     "metadata": {},
     "output_type": "execute_result"
    }
   ],
   "source": [
    "# Utiliza esta celda para solicitar las primeras 5 observaciones con head\n",
    "df.head(6)"
   ]
  },
  {
   "cell_type": "code",
   "execution_count": 4,
   "id": "926402c8",
   "metadata": {},
   "outputs": [
    {
     "data": {
      "text/plain": [
       "team                0\n",
       "continent           0\n",
       "group               0\n",
       "group_pos           0\n",
       "cantidad_juegos     0\n",
       "juegos_ganados      0\n",
       "juegos_empatados    0\n",
       "juegos_perdidos     0\n",
       "goles_favor         0\n",
       "goles_contra        0\n",
       "goles_diferencia    0\n",
       "puntos              0\n",
       "clasificado         0\n",
       "dtype: int64"
      ]
     },
     "execution_count": 4,
     "metadata": {},
     "output_type": "execute_result"
    }
   ],
   "source": [
    "# Sugerencia adicional: Utiliza esta celda para explorar la cantidad de nulos\n",
    "#Muestra la canitdad de datos nulos en el df\n",
    "df.isna().sum()"
   ]
  },
  {
   "cell_type": "markdown",
   "id": "1b2ef06b",
   "metadata": {},
   "source": [
    "### 2. Frecuencia de `continent`: utilizando `value_counts` responde lo siguiente (1 punto)"
   ]
  },
  {
   "cell_type": "code",
   "execution_count": 5,
   "id": "85812490",
   "metadata": {},
   "outputs": [
    {
     "data": {
      "text/plain": [
       "europe          0.40625\n",
       "southamerica    0.18750\n",
       "africa          0.15625\n",
       "northamerica    0.12500\n",
       "asia            0.12500\n",
       "Name: continent, dtype: float64"
      ]
     },
     "execution_count": 5,
     "metadata": {},
     "output_type": "execute_result"
    }
   ],
   "source": [
    "# Utiliza esta celda para aplicar value_counts a la columna continent. Recordar que debemos mostrar frecuencias relativas para obtener las probabilidades.\n",
    "df[\"continent\"].value_counts(normalize = True) #// df[\"continent\"].value_counts('%')"
   ]
  },
  {
   "cell_type": "markdown",
   "id": "6953577a",
   "metadata": {},
   "source": [
    "**¿Cuál es el continente con una mayor presencia en la muestra?**\n",
    "\n",
    "**Respuesta**:El continente con una presencia en la muestra es Europa"
   ]
  },
  {
   "cell_type": "markdown",
   "id": "d56b5d5c",
   "metadata": {},
   "source": [
    "**¿Cuál es la probabilidad de elegir un equipo asiático al azar?**\n",
    "\n",
    "**Respuesta:** La probabilidad de elegir un equipo asiatico es de 0.125"
   ]
  },
  {
   "cell_type": "markdown",
   "id": "3a187512",
   "metadata": {},
   "source": [
    "**¿Cuál es la probabilidad de elegir un equipo africano al azar?**\n",
    "\n",
    "**Respuesta:** la probabilidad de elegir un equipo africano es de 0.16"
   ]
  },
  {
   "cell_type": "markdown",
   "id": "7200b8a2",
   "metadata": {},
   "source": [
    "### 3. Generación de un subconjunto de datos: por cada continente, genere un nuevo objeto que almacene sólo las observaciones del continente (1 punto)\n",
    "- _**Tip**_: Para ello puede utilizar la siguiente sintaxis: `df[df['variable'] == condicion]`."
   ]
  },
  {
   "cell_type": "code",
   "execution_count": 6,
   "id": "e627a402",
   "metadata": {},
   "outputs": [
    {
     "data": {
      "text/plain": [
       "array(['southamerica', 'northamerica', 'europe', 'africa', 'asia'],\n",
       "      dtype=object)"
      ]
     },
     "execution_count": 6,
     "metadata": {},
     "output_type": "execute_result"
    }
   ],
   "source": [
    "# Utiliza esta celda para almacenar todos los posibles continentes. Recuerda que puedes lograr esto con unique()\n",
    "continentes = df[\"continent\"].unique()\n",
    "continentes"
   ]
  },
  {
   "cell_type": "code",
   "execution_count": 7,
   "id": "58339b6f",
   "metadata": {},
   "outputs": [],
   "source": [
    "# Utiliza esta celda para generar una lista con los DataFrames que contienen los registros de cada contiennte\n",
    "\n",
    "\"\"\"\n",
    "lista_df1 = []\n",
    "\n",
    "for c in continentes:\n",
    "    lista_df.append(df[df[\"continent\"] == c])\n",
    "\n",
    "\"\"\"\n",
    "\n",
    "#list comprehension python\n",
    "lista_df = [\n",
    "    df[df[\"continent\"] == c]\n",
    "    for c in continentes\n",
    "]\n",
    "\n",
    "#lista_df // Se aprecia que divide la info por continentes\n",
    "\n"
   ]
  },
  {
   "cell_type": "markdown",
   "id": "493b7c11",
   "metadata": {},
   "source": [
    "### 4. Probabilidad de clasificación a la siguiente ronda: Calcula la probabilidad de que un país pase a la siguiente ronda (clasifique) por continente (4 puntos)\n",
    "_**Tip**_: El problema puede ser resuelto de varias formas:\n",
    "- La manera más intuitiva corresponde a calcular la probabilidad en cada subconjunto creado en el problema 3.\n",
    "- Una forma alternativa es copiar todos los subsets creados en el problema 3 en una lista e iterar sobre dicha lista.\n",
    "- Una forma más elegante consiste en utilizar una operación de agrupación por continente, y luego calcular la probabilidad."
   ]
  },
  {
   "cell_type": "code",
   "execution_count": 8,
   "id": "d4d8a51e",
   "metadata": {},
   "outputs": [
    {
     "name": "stdout",
     "output_type": "stream",
     "text": [
      "Probabilidad de clasificar considerando todos los datos 0.5\n"
     ]
    }
   ],
   "source": [
    "# Utiliza esta celda para explorar las columnas del DataFrame e identificar la que indica si un país clasificó o no\n",
    "\n",
    "#Observar las columnas, nos damos cuenta que existe la de clasificado\n",
    "#print(df.columns)\n",
    "\n",
    "#Saca la probabilidad de clasificar o no clasificar // 0.5 y 0.5\n",
    "probs_df = df[\"clasificado\"].value_counts(\"%\")\n",
    "\n",
    "#Imprime la probabilidad de clasificar, para eso utiliza el .get(1)\n",
    "print(f\"Probabilidad de clasificar considerando todos los datos {probs_df.get(1)}\")\n"
   ]
  },
  {
   "cell_type": "code",
   "execution_count": 9,
   "id": "964856f7",
   "metadata": {},
   "outputs": [
    {
     "name": "stdout",
     "output_type": "stream",
     "text": [
      "Probabilidad de clasificar para el continente southamerica: 0.8333333333333334\n",
      "Probabilidad de clasificar para el continente northamerica: 0.75\n",
      "Probabilidad de clasificar para el continente europe: 0.46153846153846156\n",
      "Probabilidad de clasificar para el continente africa: 0.4\n",
      "Probabilidad de clasificar para el continente asia: None\n"
     ]
    }
   ],
   "source": [
    "# Utiliza esta celda para observar la probabilidad de clasificación en cada uno de los DataFrame de los continentes creados en la pregunta anterior\n",
    "# Recuerda que \"1\" indica \"sí clasifica\", y que de una Serie (como es el caso de lo entregado por value_counts) puedes acceder al valor asociado a un índice con get\n",
    "\n",
    "for df_continente in lista_df:\n",
    "    probs_df = df_continente[\"clasificado\"].value_counts(\"%\")\n",
    "    nombre_continente = df_continente[\"continent\"].unique()\n",
    "    print(f\"Probabilidad de clasificar para el continente {nombre_continente[0]}: {probs_df.get(1 )}\")\n"
   ]
  },
  {
   "cell_type": "code",
   "execution_count": 10,
   "id": "3ce2d38f",
   "metadata": {},
   "outputs": [
    {
     "data": {
      "text/plain": [
       "continent     clasificado\n",
       "africa        0              0.600000\n",
       "              1              0.400000\n",
       "asia          0              1.000000\n",
       "europe        0              0.538462\n",
       "              1              0.461538\n",
       "northamerica  1              0.750000\n",
       "              0              0.250000\n",
       "southamerica  1              0.833333\n",
       "              0              0.166667\n",
       "Name: clasificado, dtype: float64"
      ]
     },
     "execution_count": 10,
     "metadata": {},
     "output_type": "execute_result"
    }
   ],
   "source": [
    "# Sugerencia: Lograr lo mismo usando el df general de todos los datos, usando groupby\n",
    "\n",
    "df.groupby(\n",
    "    [\"continent\"] #Dentro de group by va la lista de las columnas que quiero agrupar\n",
    ")[\n",
    "    \"clasificado\" #Luego se accede a la, o las columnas, de las que se requiere obtener un valor que represente el grupo\n",
    "].value_counts('%')"
   ]
  },
  {
   "cell_type": "markdown",
   "id": "8beb65af",
   "metadata": {},
   "source": [
    "**¿Cuál es la probabilidad de que un país asiático pase a la siguiente ronda?**\n",
    "\n",
    "**Respuesta:**La probabilidad de que un pais asiatico pase a la siguiente ronda es de 0."
   ]
  },
  {
   "cell_type": "markdown",
   "id": "085c208d",
   "metadata": {},
   "source": [
    "**¿Cuáles son los dos continentes con la mayor probabilidad de clasificar?**\n",
    "\n",
    "**Respuesta:Los continentes con la mayor probabilidad de clasificar son southamerica y northamerica respectivamente."
   ]
  },
  {
   "cell_type": "markdown",
   "id": "6a5a81bd",
   "metadata": {},
   "source": [
    "**¿Cuál es la probabilidad de que un país europeo no clasifique?**\n",
    "\n",
    "**Respuesta:** La probabilidad de que un pais europeo no clasifique es de 0.53"
   ]
  },
  {
   "cell_type": "markdown",
   "id": "8c29663e",
   "metadata": {},
   "source": [
    "### 5. Probabilidad de victoria y derrota: Se pide utilizar `value_counts` para calcular la probabilidad de que un continente contenga países con o sin victorias (3 puntos).\n",
    "- Para ello crea una columna adicional llamada `ha_ganado` que contenga un `0` si es que un país _no_ tiene juegos ganados, y un `1` si es que ha ganado al menos un juego.\n",
    "- Sugerencias: Para crear dicha columna puede revisar:\n",
    "    - `np.where`, de Numpy\n",
    "    - `Series.where`, de Pandas\n",
    "\n",
    "- Además puede utilizar los mismos procedimientos sugeridos en el Requerimiento 4."
   ]
  },
  {
   "cell_type": "code",
   "execution_count": 20,
   "id": "22a70f39",
   "metadata": {},
   "outputs": [
    {
     "data": {
      "text/plain": [
       "1    23\n",
       "0     9\n",
       "Name: ha_ganado, dtype: int64"
      ]
     },
     "execution_count": 20,
     "metadata": {},
     "output_type": "execute_result"
    }
   ],
   "source": [
    "# Utilice esta celda para resolver mediante np.where\n",
    "df[\"ha_ganado\"] = np.where(   #Se crea una columna \"ha_ganado\" \n",
    "    df[\"juegos_ganados\"] > 0, #Primer argumento corresponde a la condición booleana a evaluar\n",
    "    1,                        #Asignacion que se hace cuando la condicion se cumple o True\n",
    "    0                         #Asignacion que se hace cuando la condicion NO se cumple o False\n",
    ") \n",
    "\n",
    "df[\"ha_ganado\"].value_counts()"
   ]
  },
  {
   "cell_type": "code",
   "execution_count": 30,
   "id": "f90f155d",
   "metadata": {},
   "outputs": [
    {
     "data": {
      "text/plain": [
       "1    23\n",
       "0     9\n",
       "Name: ha_ganado, dtype: int64"
      ]
     },
     "execution_count": 30,
     "metadata": {},
     "output_type": "execute_result"
    }
   ],
   "source": [
    "# Utilice esta celda para resolver mediante Series.where\n",
    "\n",
    "df[\"ha_ganado\"] =  df[\"juegos_ganados\"].where(\n",
    "    lambda x: x == 0,   #Función que evalia y retorna cuando la condicion no se cumple, puede ser func anonima o lamba\n",
    "    1,                  #Asignación que se hace cuando la condición se cumple\n",
    ")\n",
    "\n",
    "df[\"ha_ganado\"].value_counts()"
   ]
  },
  {
   "cell_type": "code",
   "execution_count": 33,
   "id": "45248037",
   "metadata": {},
   "outputs": [
    {
     "data": {
      "text/plain": [
       "continent     ha_ganado\n",
       "africa        1            0.600000\n",
       "              0            0.400000\n",
       "asia          0            1.000000\n",
       "europe        1            0.846154\n",
       "              0            0.153846\n",
       "northamerica  1            0.750000\n",
       "              0            0.250000\n",
       "southamerica  1            1.000000\n",
       "Name: ha_ganado, dtype: float64"
      ]
     },
     "execution_count": 33,
     "metadata": {},
     "output_type": "execute_result"
    }
   ],
   "source": [
    "# Utilice esta celda para mostrar las probabilidades usando groupby (con celda 'ha_ganado' ya creada)\n",
    "#La lista por la que vamos a agrupar es \"continent\"\n",
    "#Con corchete accedemos a la columna que queremos sacar una agregacion \"ha_ganado\"\n",
    "\n",
    "df.groupby([\"continent\"])[\"ha_ganado\"].value_counts(\"&\")"
   ]
  },
  {
   "cell_type": "markdown",
   "id": "bf8b959b",
   "metadata": {},
   "source": [
    "**A. ¿Qué continente tiene la mayor probabilidad de tener países con al menos 1 victoria?**\n",
    "\n",
    "**Respuesta** El continente que tiene mayor probabilidad de tener al menos 1 victoria es southamerica  "
   ]
  },
  {
   "cell_type": "markdown",
   "id": "1b4b2ded",
   "metadata": {},
   "source": [
    "**B. ¿Qué continente tiene un nivel similar entre países que tienen o no tienen victorias?**\n",
    "\n",
    "**Respuesta** El continente que tiene un nivel similar entre victorias y no victorias es africa."
   ]
  },
  {
   "cell_type": "markdown",
   "id": "0a408b9f",
   "metadata": {},
   "source": [
    "**Reformule el código para juegos perdidos y analice los continentes con mayor probabilidad de tener países sin juegos perdidos.**"
   ]
  },
  {
   "cell_type": "code",
   "execution_count": 36,
   "id": "b60785b9",
   "metadata": {},
   "outputs": [
    {
     "data": {
      "text/plain": [
       "1    23\n",
       "0     9\n",
       "Name: ha_perdido, dtype: int64"
      ]
     },
     "execution_count": 36,
     "metadata": {},
     "output_type": "execute_result"
    }
   ],
   "source": [
    "# Utilice esta celda para generar la columna 'ha_perdido' indicando con 1 si el país ha perdido al menos 1 vez, y 0 si no\n",
    "\n",
    "df[\"ha_perdido\"] = np.where(   #Se crea una columna \"ha_perdido\" \n",
    "    df[\"juegos_perdidos\"] > 0, #Primer argumento corresponde a la condición booleana a evaluar\n",
    "    1,                        #Asignacion que se hace cuando la condicion se cumple o True\n",
    "    0                         #Asignacion que se hace cuando la condicion NO se cumple o False\n",
    ") \n",
    "\n",
    "df[\"ha_perdido\"].value_counts()"
   ]
  },
  {
   "cell_type": "code",
   "execution_count": 15,
   "id": "22f151b4",
   "metadata": {},
   "outputs": [],
   "source": [
    "# Utilice esta celda para mostrar las probabilidades por continente de haber perdido al menos 1 juego"
   ]
  },
  {
   "cell_type": "markdown",
   "id": "b21dd7a4",
   "metadata": {},
   "source": [
    "**Respuesta:**"
   ]
  },
  {
   "cell_type": "code",
   "execution_count": 37,
   "id": "4330aefa",
   "metadata": {},
   "outputs": [
    {
     "data": {
      "text/plain": [
       "continent     ha_perdido\n",
       "africa        1             1.000000\n",
       "asia          1             1.000000\n",
       "europe        1             0.692308\n",
       "              0             0.307692\n",
       "northamerica  0             0.500000\n",
       "              1             0.500000\n",
       "southamerica  0             0.500000\n",
       "              1             0.500000\n",
       "Name: ha_perdido, dtype: float64"
      ]
     },
     "execution_count": 37,
     "metadata": {},
     "output_type": "execute_result"
    }
   ],
   "source": [
    "df.groupby([\"continent\"])[\"ha_perdido\"].value_counts(\"&\")"
   ]
  },
  {
   "cell_type": "markdown",
   "id": "4f91a623",
   "metadata": {},
   "source": [
    "Los paises con mayor probabilidad sin tener juegos perdidos son northamerica y southamerica."
   ]
  },
  {
   "cell_type": "code",
   "execution_count": null,
   "id": "b2699427",
   "metadata": {},
   "outputs": [],
   "source": []
  }
 ],
 "metadata": {
  "kernelspec": {
   "display_name": "Python 3 (ipykernel)",
   "language": "python",
   "name": "python3"
  },
  "language_info": {
   "codemirror_mode": {
    "name": "ipython",
    "version": 3
   },
   "file_extension": ".py",
   "mimetype": "text/x-python",
   "name": "python",
   "nbconvert_exporter": "python",
   "pygments_lexer": "ipython3",
   "version": "3.9.7"
  }
 },
 "nbformat": 4,
 "nbformat_minor": 5
}
